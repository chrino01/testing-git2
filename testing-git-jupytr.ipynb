{
 "cells": [
  {
   "cell_type": "code",
   "execution_count": 1,
   "id": "b0cc858f",
   "metadata": {},
   "outputs": [],
   "source": [
    "import pandas as pd "
   ]
  },
  {
   "cell_type": "code",
   "execution_count": 3,
   "id": "c3362d8f",
   "metadata": {},
   "outputs": [
    {
     "name": "stdout",
     "output_type": "stream",
     "text": [
      "angka ke-0\n",
      "angka ke-1\n",
      "angka ke-2\n",
      "angka ke-3\n",
      "angka ke-4\n",
      "angka ke-5\n",
      "angka ke-6\n",
      "angka ke-7\n",
      "angka ke-8\n",
      "angka ke-9\n"
     ]
    }
   ],
   "source": [
    "for i in range(10):\n",
    "    print(f\"angka ke-{i}\")"
   ]
  },
  {
   "cell_type": "markdown",
   "id": "b5ff06e1",
   "metadata": {},
   "source": [
    "# Latex"
   ]
  },
  {
   "cell_type": "markdown",
   "id": "16ae0d86",
   "metadata": {},
   "source": [
    "$$ = \\sqrt(a^2 + b62) $$"
   ]
  },
  {
   "cell_type": "code",
   "execution_count": null,
   "id": "bd12a656",
   "metadata": {},
   "outputs": [],
   "source": []
  },
  {
   "cell_type": "code",
   "execution_count": null,
   "id": "aad18da7",
   "metadata": {},
   "outputs": [],
   "source": []
  }
 ],
 "metadata": {
  "kernelspec": {
   "display_name": "Python 3 (ipykernel)",
   "language": "python",
   "name": "python3"
  },
  "language_info": {
   "codemirror_mode": {
    "name": "ipython",
    "version": 3
   },
   "file_extension": ".py",
   "mimetype": "text/x-python",
   "name": "python",
   "nbconvert_exporter": "python",
   "pygments_lexer": "ipython3",
   "version": "3.10.4"
  }
 },
 "nbformat": 4,
 "nbformat_minor": 5
}
