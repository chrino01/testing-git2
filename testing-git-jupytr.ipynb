{
 "cells": [
  {
   "cell_type": "code",
   "execution_count": 1,
   "id": "b0cc858f",
   "metadata": {},
   "outputs": [],
   "source": [
    "import pandas as pd "
   ]
  },
  {
   "cell_type": "code",
   "execution_count": 3,
   "id": "c3362d8f",
   "metadata": {},
   "outputs": [
    {
     "name": "stdout",
     "output_type": "stream",
     "text": [
      "angka ke-0\n",
      "angka ke-1\n",
      "angka ke-2\n",
      "angka ke-3\n",
      "angka ke-4\n",
      "angka ke-5\n",
      "angka ke-6\n",
      "angka ke-7\n",
      "angka ke-8\n",
      "angka ke-9\n"
     ]
    }
   ],
   "source": [
    "for i in range(10):\n",
    "    print(f\"angka ke-{i}\")"
   ]
  },
  {
   "cell_type": "markdown",
   "id": "b5ff06e1",
   "metadata": {},
   "source": [
    "# Latex"
   ]
  },
  {
   "cell_type": "markdown",
   "id": "16ae0d86",
   "metadata": {},
   "source": [
    "$$ = \\sqrt(a^2 + b62) $$"
   ]
  },
  {
   "cell_type": "markdown",
   "id": "4b5ba100",
   "metadata": {},
   "source": [
    "Menghitung nilai yahahah"
   ]
  },
  {
   "cell_type": "code",
   "execution_count": 8,
   "id": "bd12a656",
   "metadata": {},
   "outputs": [
    {
     "name": "stdout",
     "output_type": "stream",
     "text": [
      "Kamu gagal dengan nilai: 20\n",
      "20\n"
     ]
    }
   ],
   "source": [
    "nilai = int(input(\"Masukkan nilai mu: \"))\n",
    "if nilai >=70:\n",
    "    print(f\"Kamu mendapat Rank A. Dengan Nilai:{nilai}\")\n",
    "elif nilai >= 50:\n",
    "    print(f\"Kamu mendapat nilai B. Dengan NIlai: {nilai}\")\n",
    "else: print(f\"Kamu gagal dengan nilai: {nilai}\")\n",
    "\n",
    "\n",
    "print(nilai)\n"
   ]
  },
  {
   "cell_type": "markdown",
   "id": "53b66e28",
   "metadata": {},
   "source": [
    "looping coba coba"
   ]
  },
  {
   "cell_type": "code",
   "execution_count": 13,
   "id": "aad18da7",
   "metadata": {},
   "outputs": [
    {
     "name": "stdout",
     "output_type": "stream",
     "text": [
      "11\n",
      "12\n",
      "13\n",
      "14\n",
      "15\n"
     ]
    }
   ],
   "source": [
    "sasa=[1,2,3,4,5]\n",
    "for i in sasa:\n",
    "    i+=10\n",
    "    print(i) "
   ]
  },
  {
   "cell_type": "code",

   "execution_count": 10,

   "id": "22b7e22a",
   "metadata": {},
   "outputs": [
    {

     "name": "stdout",
     "output_type": "stream",
     "text": [
      "0\n",
      "5\n",
      "10\n",
      "15\n",
      "20\n"
     ]
    }
   ],
   "source": [
    "def looping(x):\n",
    "    for i in range(5):\n",
    "        i*=10\n",
    "        si= i/x\n",
    "        print(int(si))\n",
    "\n",
    "looping(2)"



   ]
  }
 ],
 "metadata": {
  "kernelspec": {
   "display_name": "Python 3 (ipykernel)",
   "language": "python",
   "name": "python3"
  },
  "language_info": {
   "codemirror_mode": {
    "name": "ipython",
    "version": 3
   },
   "file_extension": ".py",
   "mimetype": "text/x-python",
   "name": "python",
   "nbconvert_exporter": "python",
   "pygments_lexer": "ipython3",
   "version": "3.10.4"
  }
 },
 "nbformat": 4,
 "nbformat_minor": 5
}
